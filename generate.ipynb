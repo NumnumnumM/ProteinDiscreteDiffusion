{
 "cells": [
  {
   "cell_type": "code",
   "execution_count": null,
   "metadata": {},
   "outputs": [],
   "source": [
    "import os\n",
    "os.environ['MKL_THREADING_LAYER'] = 'GNU'\n",
    "import pickle\n",
    "import numpy as np\n",
    "import matplotlib.pyplot as plt\n",
    "\n",
    "import torch\n",
    "import torch.nn as nn\n",
    "import torch.nn.functional as F\n",
    "import pandas as pd\n",
    "from process import *\n",
    "from sample import run"
   ]
  },
  {
   "cell_type": "code",
   "execution_count": null,
   "metadata": {},
   "outputs": [],
   "source": [
    "sec, _, seq = parse_pdb_for_secondary_structure('./data/test/4E3Q-S.pdb')\n",
    "print(f'{seq}\\n{sec}')"
   ]
  },
  {
   "cell_type": "code",
   "execution_count": null,
   "metadata": {},
   "outputs": [],
   "source": [
    "finder = HighFrequencySequenceFinder('./data/test/4E3Q-NR90-M2.fas', threshold=65)\n",
    "seq_mask = finder.get_mask_seq()\n",
    "print(seq_mask)\n",
    "print(f'number of X : {seq_mask.count(\"X\")}/{len(seq_mask)}')"
   ]
  },
  {
   "cell_type": "code",
   "execution_count": null,
   "metadata": {},
   "outputs": [],
   "source": [
    "# result = run(alignaaa, cache_time='11-30-02', original_data=seq_mask)\n",
    "result = run(sec, cache_time='03-15-10', original_data=None, num_sample=10, classifier=False, scale=10)\n",
    "result"
   ]
  },
  {
   "cell_type": "code",
   "execution_count": null,
   "metadata": {},
   "outputs": [],
   "source": [
    "with open('./4E3Q-65.FASTA', mode='w+') as f:\n",
    "    for idx, sequence in enumerate(result):\n",
    "        f.write(f'>{idx}\\n')\n",
    "        f.write(f'{sequence}\\n')"
   ]
  },
  {
   "cell_type": "code",
   "execution_count": null,
   "metadata": {},
   "outputs": [],
   "source": [
    "fold_and_savePDB(result, '/workspace/sample', device='cuda:1')"
   ]
  },
  {
   "cell_type": "code",
   "execution_count": null,
   "metadata": {},
   "outputs": [],
   "source": [
    "path = '/workspace/sample/03-07-10-03/'\n",
    "pdb_lst = [os.path.join(path, pdb) for pdb in os.listdir(path) if pdb.endswith('.pdb')]  # 只获取PDB文件\n",
    "score_dict = {}\n",
    "\n",
    "for pdb in pdb_lst:\n",
    "    predict, _, sequence = parse_pdb_for_secondary_structure(pdb)\n",
    "    # score = calculate_sequence_similarity_percentage(predict, alignaaa)\n",
    "    score = calculate_sequence_similarity_percentage(predict, sec)  # 15:29 30:-2 14:36\n",
    "    score_dict[pdb] = score\n",
    "\n",
    "# 获取得分最小值对应的 PDB 文件名\n",
    "max_score_pdb = max(score_dict, key=score_dict.get)\n",
    "best_pdb_name = os.path.basename(max_score_pdb)  # 只获取文件名，不带路径\n",
    "print(f\"Best PDB File   : {best_pdb_name}\")\n",
    "print(f\"Corresponding Score: {score_dict[max_score_pdb]}\")\n",
    "\n",
    "predict, _, _ = parse_pdb_for_secondary_structure(max_score_pdb)\n",
    "idx = max_score_pdb.split('/')[-1].split('.')[0]\n",
    "print(f'Prediction: {predict}\\nCondition : {sec}\\nSequence  : {result[int(idx)]}')"
   ]
  },
  {
   "cell_type": "code",
   "execution_count": null,
   "metadata": {},
   "outputs": [],
   "source": [
    "plot_structure_comparison(predict, calculate_ss_percentages_list(sec), plot_error=True)"
   ]
  },
  {
   "cell_type": "code",
   "execution_count": null,
   "metadata": {},
   "outputs": [],
   "source": [
    "# 提取所有值\n",
    "values = list(score_dict.values())\n",
    "\n",
    "# 计算平均值、最大值和最小值\n",
    "average_value = np.mean(values)\n",
    "max_value = np.max(values)\n",
    "min_value = np.min(values)\n",
    "\n",
    "# 打印结果\n",
    "print(f\"平均值: {average_value}\")\n",
    "print(f\"最大值: {max_value}\")\n",
    "print(f\"最小值: {min_value}\")\n",
    "\n",
    "\n",
    "# 使用列表推导式筛选大于阈值的值\n",
    "threshold=50\n",
    "values_above_threshold = [value for value in score_dict.values() if value >= threshold]\n",
    "\n",
    "# 统计数量\n",
    "count_above_threshold = len(values_above_threshold)\n",
    "\n",
    "# 打印结果\n",
    "print(f\"大于阈值 {threshold} 的值的数量: {count_above_threshold}\")\n",
    "\n"
   ]
  },
  {
   "cell_type": "code",
   "execution_count": null,
   "metadata": {},
   "outputs": [],
   "source": [
    "# 按值降序排序字典\n",
    "sorted_dict_desc = dict(sorted(score_dict.items(), key=lambda item: item[1], reverse=True))\n",
    "sorted_dict_desc"
   ]
  },
  {
   "cell_type": "code",
   "execution_count": null,
   "metadata": {},
   "outputs": [],
   "source": [
    "keys = []\n",
    "values = []\n",
    "for i in sorted_dict_desc:\n",
    "    idx = i.split('/')[-1]\n",
    "    keys.append(idx)\n",
    "    values.append(sorted_dict_desc[i])\n",
    "\n",
    "df = pd.DataFrame({'pdb':keys, 'score':values})\n",
    "df_path = os.path.join(path, '4e3q-65.csv')\n",
    "df.to_csv(df_path)"
   ]
  },
  {
   "cell_type": "code",
   "execution_count": null,
   "metadata": {},
   "outputs": [],
   "source": [
    "from Bio import SeqIO\n",
    "\n",
    "seq_list = [str(i.seq) for i in SeqIO.parse('/workspace/sample/02-22-07-43/sequence.fasta', 'fasta')]"
   ]
  },
  {
   "cell_type": "code",
   "execution_count": null,
   "metadata": {},
   "outputs": [],
   "source": [
    "import matplotlib.pyplot as plt\n",
    "import numpy as np\n",
    "\n",
    "# 示例数据\n",
    "scores = list(score_dict.values())\n",
    "\n",
    "# 绘制直方图\n",
    "\n",
    "bins = range(0, 100, 5)\n",
    "plt.hist(scores, bins=20, range=(0, 100), color='blue', alpha=0.7, density=True)\n",
    "plt.xticks(np.arange(0, 100+1, 5))\n",
    "plt.xlim(0, 100)\n",
    "plt.title('Score Distribution')\n",
    "plt.xlabel('Score')\n",
    "plt.ylabel('Density')\n",
    "plt.show()\n"
   ]
  },
  {
   "cell_type": "code",
   "execution_count": null,
   "metadata": {},
   "outputs": [],
   "source": [
    "import shutil\n",
    "\n",
    "seq_lst = []\n",
    "result_path = './result'\n",
    "tag_time = time.strftime(\"%m-%d-%H-%S\", time.localtime())\n",
    "path = os.path.join(result_path, tag_time)\n",
    "os.makedirs(path)\n",
    "fasta_file = os.path.join(path, 'seq.fasta')\n",
    "with open(fasta_file, mode='w+') as f:\n",
    "    for i, key in enumerate(sorted_dict_desc.keys()):\n",
    "        if i >= 50:\n",
    "            break\n",
    "        idx = int(key.split('/')[-1].split('.')[0])\n",
    "        f.write(f'>{idx}\\n')\n",
    "        f.write(f'{seq_list[idx]}\\n')\n",
    "        shutil.copy(key, path)"
   ]
  }
 ],
 "metadata": {
  "language_info": {
   "name": "python"
  }
 },
 "nbformat": 4,
 "nbformat_minor": 2
}
